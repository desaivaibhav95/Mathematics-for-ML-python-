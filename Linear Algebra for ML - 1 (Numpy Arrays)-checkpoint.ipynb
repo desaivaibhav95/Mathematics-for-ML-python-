{
 "cells": [
  {
   "cell_type": "markdown",
   "metadata": {},
   "source": [
    "# Introduction to Numpy Arrays"
   ]
  },
  {
   "cell_type": "code",
   "execution_count": 2,
   "metadata": {},
   "outputs": [],
   "source": [
    "from numpy import array"
   ]
  },
  {
   "cell_type": "code",
   "execution_count": 3,
   "metadata": {},
   "outputs": [
    {
     "name": "stdout",
     "output_type": "stream",
     "text": [
      "[1 2 3]\n",
      "(3,)\n",
      "int32\n"
     ]
    }
   ],
   "source": [
    "l = [1,2,3]\n",
    "a = array(l)\n",
    "print(a)\n",
    "print(a.shape)\n",
    "print(a.dtype)"
   ]
  },
  {
   "cell_type": "markdown",
   "metadata": {},
   "source": [
    "## Functions to create arrays"
   ]
  },
  {
   "cell_type": "code",
   "execution_count": 5,
   "metadata": {},
   "outputs": [
    {
     "name": "stdout",
     "output_type": "stream",
     "text": [
      "[[0.00e+000 0.00e+000 0.00e+000]\n",
      " [0.00e+000 0.00e+000 7.63e-321]\n",
      " [0.00e+000 0.00e+000 0.00e+000]]\n"
     ]
    }
   ],
   "source": [
    "# Empty\n",
    "from numpy import empty\n",
    "a = empty([3,3]) # array of shape (3,3) and contents will be random\n",
    "print(a)"
   ]
  },
  {
   "cell_type": "code",
   "execution_count": 8,
   "metadata": {},
   "outputs": [
    {
     "name": "stdout",
     "output_type": "stream",
     "text": [
      "[[0. 0. 0. 0. 0.]\n",
      " [0. 0. 0. 0. 0.]\n",
      " [0. 0. 0. 0. 0.]]\n"
     ]
    }
   ],
   "source": [
    "# Zeroes\n",
    "from numpy import zeros\n",
    "a = zeros([3,5])\n",
    "print(a)"
   ]
  },
  {
   "cell_type": "code",
   "execution_count": 9,
   "metadata": {},
   "outputs": [
    {
     "name": "stdout",
     "output_type": "stream",
     "text": [
      "[[1. 1. 1. 1.]\n",
      " [1. 1. 1. 1.]]\n"
     ]
    }
   ],
   "source": [
    "# Ones\n",
    "from numpy import ones\n",
    "a = ones([2,4])\n",
    "print(a)"
   ]
  },
  {
   "cell_type": "markdown",
   "metadata": {},
   "source": [
    "## Combining arrays"
   ]
  },
  {
   "cell_type": "code",
   "execution_count": 19,
   "metadata": {},
   "outputs": [
    {
     "name": "stdout",
     "output_type": "stream",
     "text": [
      "[[1 2 3]\n",
      " [4 5 6]]\n",
      "(2, 3)\n",
      "\r\n",
      "[1 2 3 4 5 6]\n",
      "(6,)\n"
     ]
    }
   ],
   "source": [
    "from numpy import array\n",
    "from numpy import vstack, hstack\n",
    "\n",
    "a1 = array([1,2,3])\n",
    "a2 = array([4,5,6])\n",
    "\n",
    "# Vertical stack : Given two or more arrays, you can stack them vertically using the vstack() function.\n",
    "a3 = vstack((a1,a2))\n",
    "\n",
    "# Vertical stack : Given two or more arrays, you can stack them vertically using the vstack() function.\n",
    "a4 = hstack((a1,a2))\n",
    "\n",
    "print(a3)\n",
    "print(a3.shape)\n",
    "\n",
    "print(\"\\r\")\n",
    "\n",
    "print(a4)\n",
    "print(a4.shape)"
   ]
  },
  {
   "cell_type": "markdown",
   "metadata": {},
   "source": [
    "# Index, Slice and Reshape NumPy Arrays"
   ]
  },
  {
   "cell_type": "markdown",
   "metadata": {},
   "source": [
    "## Lists to Arrays"
   ]
  },
  {
   "cell_type": "code",
   "execution_count": 21,
   "metadata": {},
   "outputs": [
    {
     "name": "stdout",
     "output_type": "stream",
     "text": [
      "[1 2 3 4]\n",
      "\r\n",
      "<class 'numpy.ndarray'>\n"
     ]
    }
   ],
   "source": [
    "# One-dimensional list to array\n",
    "from numpy import array\n",
    "\n",
    "data = [1,2,3,4]\n",
    "data = array(data)\n",
    "\n",
    "print(data)\n",
    "print(\"\\r\")\n",
    "print(type(data))"
   ]
  },
  {
   "cell_type": "code",
   "execution_count": 23,
   "metadata": {},
   "outputs": [
    {
     "name": "stdout",
     "output_type": "stream",
     "text": [
      "[[ 1  2]\n",
      " [ 3  4]\n",
      " [ 5  6]\n",
      " [ 7  8]\n",
      " [ 9 10]]\n",
      "\r\n",
      "<class 'numpy.ndarray'>\n"
     ]
    }
   ],
   "source": [
    "# Two-dimensional list to array\n",
    "from numpy import array\n",
    "\n",
    "data = [[1,2],\n",
    "        [3,4],\n",
    "        [5,6],\n",
    "        [7,8],\n",
    "        [9,10]]\n",
    "data = array(data)\n",
    "\n",
    "print(data)\n",
    "print(\"\\r\")\n",
    "print(type(data))"
   ]
  },
  {
   "cell_type": "markdown",
   "metadata": {},
   "source": [
    "## Array Indexing"
   ]
  },
  {
   "cell_type": "code",
   "execution_count": 26,
   "metadata": {},
   "outputs": [
    {
     "name": "stdout",
     "output_type": "stream",
     "text": [
      "1\n",
      "5\n"
     ]
    }
   ],
   "source": [
    "# Data stored in form of a numpy array can be accessed by means of an index\n",
    "from numpy import array\n",
    "\n",
    "data = array([1,2,3,4,5])\n",
    "print(data[0])\n",
    "print(data[4])"
   ]
  },
  {
   "cell_type": "code",
   "execution_count": 29,
   "metadata": {},
   "outputs": [
    {
     "name": "stdout",
     "output_type": "stream",
     "text": [
      "1\n",
      "5\n"
     ]
    }
   ],
   "source": [
    "print(data[-5])\n",
    "print(data[-1])"
   ]
  },
  {
   "cell_type": "code",
   "execution_count": 36,
   "metadata": {},
   "outputs": [
    {
     "name": "stdout",
     "output_type": "stream",
     "text": [
      "2\n",
      "4\n",
      "7\n"
     ]
    }
   ],
   "source": [
    "# Two dimensional index\n",
    "data = array([[1,2,3],\n",
    "             [2,3,4],\n",
    "             [3,4,5],\n",
    "             [4,5,6],\n",
    "             [5,6,7]])\n",
    "\n",
    "print(data[0,1])\n",
    "print(data[2,1])\n",
    "print(data[4,2])"
   ]
  },
  {
   "cell_type": "code",
   "execution_count": 39,
   "metadata": {},
   "outputs": [
    {
     "name": "stdout",
     "output_type": "stream",
     "text": [
      "[3 4 5]\n"
     ]
    }
   ],
   "source": [
    "# printing a single row\n",
    "print(data[2,])"
   ]
  },
  {
   "cell_type": "markdown",
   "metadata": {},
   "source": [
    "## Array Slicing"
   ]
  },
  {
   "cell_type": "code",
   "execution_count": 42,
   "metadata": {},
   "outputs": [
    {
     "name": "stdout",
     "output_type": "stream",
     "text": [
      "[1 3 5 7 9]\n",
      "[5 7 9]\n",
      "[1 3 5 7]\n"
     ]
    }
   ],
   "source": [
    "# One-dimensional slicing\n",
    "data = array([1,3,5,7,9])\n",
    "\n",
    "print(data[:])\n",
    "print(data[2:])\n",
    "print(data[:-1])"
   ]
  },
  {
   "cell_type": "code",
   "execution_count": 45,
   "metadata": {},
   "outputs": [
    {
     "name": "stdout",
     "output_type": "stream",
     "text": [
      "[[1]\n",
      " [3]]\n",
      "\r\n",
      "[[1 3]\n",
      " [3 5]\n",
      " [5 7]]\n"
     ]
    }
   ],
   "source": [
    "# Two-dimensional slicing\n",
    "data = array([[1,3,5],\n",
    "            [3,5,7],\n",
    "            [5,7,9],\n",
    "            [7,9,11]])\n",
    "\n",
    "print(data[:2,:1])\n",
    "print(\"\\r\")\n",
    "print(data[:3,:2])"
   ]
  },
  {
   "cell_type": "markdown",
   "metadata": {},
   "source": [
    "## Array Reshaping"
   ]
  },
  {
   "cell_type": "code",
   "execution_count": 47,
   "metadata": {},
   "outputs": [
    {
     "name": "stdout",
     "output_type": "stream",
     "text": [
      "(5,)\n",
      "(5, 1)\n"
     ]
    }
   ],
   "source": [
    "# Reshaping 1-d array to a 2-d array\n",
    "data = array([1,2,3,4,5])\n",
    "print(data.shape)\n",
    "\n",
    "data = data.reshape((data.shape[0],1))\n",
    "print(data.shape)"
   ]
  },
  {
   "cell_type": "code",
   "execution_count": 48,
   "metadata": {},
   "outputs": [
    {
     "name": "stdout",
     "output_type": "stream",
     "text": [
      "(4, 3)\n",
      "(4, 3, 1)\n"
     ]
    }
   ],
   "source": [
    "# Reshaping 2-d to 3-d array\n",
    "data = array([[1,3,5],\n",
    "             [3,5,7],\n",
    "             [5,7,9],\n",
    "             [7,9,11]])\n",
    "print(data.shape)\n",
    "\n",
    "data = data.reshape((data.shape[0],data.shape[1],1))\n",
    "print(data.shape)"
   ]
  },
  {
   "cell_type": "markdown",
   "metadata": {},
   "source": [
    "# Numpy Array Broadcasting"
   ]
  },
  {
   "cell_type": "markdown",
   "metadata": {},
   "source": [
    "Broadcasting is a method of performing arithmetic operations on numpy arrays with different shapes or sizes. Broadcasting solves the problem of arithmetic between arrays of differing shapes by in effect replicating the smaller array along the last mismatched dimension."
   ]
  },
  {
   "cell_type": "markdown",
   "metadata": {},
   "source": [
    "## Broadcasting in Numpy"
   ]
  },
  {
   "cell_type": "code",
   "execution_count": 56,
   "metadata": {},
   "outputs": [
    {
     "name": "stdout",
     "output_type": "stream",
     "text": [
      "[1 3 5]\n",
      "2\n",
      "[3 5 7]\n"
     ]
    }
   ],
   "source": [
    "# Scalar and a 1-D array\n",
    "a = array([1,3,5])\n",
    "print(a)\n",
    "\n",
    "b = 2\n",
    "print(b)\n",
    "\n",
    "c = a+b\n",
    "print(c)"
   ]
  },
  {
   "cell_type": "code",
   "execution_count": 62,
   "metadata": {},
   "outputs": [
    {
     "name": "stdout",
     "output_type": "stream",
     "text": [
      "[[1 2 3]\n",
      " [2 3 4]]\n",
      "\r\n",
      "10\n",
      "\r\n",
      "[[11 12 13]\n",
      " [12 13 14]]\n"
     ]
    }
   ],
   "source": [
    "# Scalar and a 2-D array\n",
    "A = array([[1,2,3],\n",
    "          [2,3,4]])\n",
    "print(A)\n",
    "\n",
    "print(\"\\r\")\n",
    "\n",
    "B = 10\n",
    "print(B)\n",
    "\n",
    "print(\"\\r\")\n",
    "\n",
    "C = A+B\n",
    "print(C)"
   ]
  },
  {
   "cell_type": "code",
   "execution_count": 63,
   "metadata": {},
   "outputs": [
    {
     "name": "stdout",
     "output_type": "stream",
     "text": [
      "[[1 2 3]\n",
      " [2 3 4]]\n",
      "\r\n",
      "[1 3 5]\n",
      "\r\n",
      "[[2 5 8]\n",
      " [3 6 9]]\n"
     ]
    }
   ],
   "source": [
    "# 1-D and 2-D arrays\n",
    "A = array([[1,2,3],\n",
    "          [2,3,4]])\n",
    "print(A)\n",
    "\n",
    "print(\"\\r\")\n",
    "\n",
    "B = array([1,3,5])\n",
    "print(B)\n",
    "\n",
    "print(\"\\r\")\n",
    "\n",
    "C = A+B\n",
    "print(C)"
   ]
  },
  {
   "cell_type": "markdown",
   "metadata": {},
   "source": [
    "Limitations of Broadcasting: It works really well in practice when working with NumPy arrays, however, it does not work for all cases, and in fact imposes a strict rule that must be satisfied for broadcasting to be performed. Arithmetic, including broadcasting,can only be performed when the shape of each dimension in the arrays are equal or one has the dimension of 1."
   ]
  }
 ],
 "metadata": {
  "kernelspec": {
   "display_name": "Python 3",
   "language": "python",
   "name": "python3"
  },
  "language_info": {
   "codemirror_mode": {
    "name": "ipython",
    "version": 3
   },
   "file_extension": ".py",
   "mimetype": "text/x-python",
   "name": "python",
   "nbconvert_exporter": "python",
   "pygments_lexer": "ipython3",
   "version": "3.8.3"
  }
 },
 "nbformat": 4,
 "nbformat_minor": 4
}
