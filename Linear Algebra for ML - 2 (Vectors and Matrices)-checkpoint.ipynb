{
 "cells": [
  {
   "cell_type": "markdown",
   "metadata": {},
   "source": [
    "# Vectors and Vector Operations"
   ]
  },
  {
   "cell_type": "code",
   "execution_count": 1,
   "metadata": {},
   "outputs": [
    {
     "name": "stdout",
     "output_type": "stream",
     "text": [
      "[1 2 3]\n"
     ]
    }
   ],
   "source": [
    "# Defining a vector v\n",
    "from numpy import array\n",
    "v = array([1,2,3])\n",
    "print(v)"
   ]
  },
  {
   "cell_type": "markdown",
   "metadata": {},
   "source": [
    "### Vector Arithmetic"
   ]
  },
  {
   "cell_type": "code",
   "execution_count": 2,
   "metadata": {},
   "outputs": [
    {
     "name": "stdout",
     "output_type": "stream",
     "text": [
      "[1 2 3]\n",
      "[10 11 12]\n",
      "[11 13 15]\n"
     ]
    }
   ],
   "source": [
    "a = array([1,2,3])\n",
    "print(a)\n",
    "b = array([10,11,12])\n",
    "print(b)\n",
    "\n",
    "# Vector sum\n",
    "c = a+b\n",
    "print(c)"
   ]
  },
  {
   "cell_type": "code",
   "execution_count": 3,
   "metadata": {},
   "outputs": [
    {
     "name": "stdout",
     "output_type": "stream",
     "text": [
      "[-9 -9 -9]\n"
     ]
    }
   ],
   "source": [
    "# Vector difference\n",
    "c = a-b\n",
    "print(c)"
   ]
  },
  {
   "cell_type": "code",
   "execution_count": 4,
   "metadata": {},
   "outputs": [
    {
     "name": "stdout",
     "output_type": "stream",
     "text": [
      "[10 22 36]\n"
     ]
    }
   ],
   "source": [
    "# Vector multiplication\n",
    "c = a*b\n",
    "print(c)"
   ]
  },
  {
   "cell_type": "code",
   "execution_count": 5,
   "metadata": {},
   "outputs": [
    {
     "name": "stdout",
     "output_type": "stream",
     "text": [
      "[0.1        0.18181818 0.25      ]\n"
     ]
    }
   ],
   "source": [
    "# Vector division\n",
    "c = a/b\n",
    "print(c)"
   ]
  },
  {
   "cell_type": "code",
   "execution_count": 6,
   "metadata": {},
   "outputs": [
    {
     "name": "stdout",
     "output_type": "stream",
     "text": [
      "68\n"
     ]
    }
   ],
   "source": [
    "# Vector dot product\n",
    "c = a.dot( b)\n",
    "print(c)"
   ]
  },
  {
   "cell_type": "code",
   "execution_count": 7,
   "metadata": {},
   "outputs": [
    {
     "name": "stdout",
     "output_type": "stream",
     "text": [
      "[55 60 65]\n"
     ]
    }
   ],
   "source": [
    "# Vector scalar multiplication\n",
    "a = array([11,12,13]) # vector\n",
    "b = 5 # scalar\n",
    "\n",
    "c = a*b\n",
    "print(c)"
   ]
  },
  {
   "cell_type": "markdown",
   "metadata": {},
   "source": [
    "# Vector Norms"
   ]
  },
  {
   "cell_type": "markdown",
   "metadata": {},
   "source": [
    "### Vector L1 norm \n",
    "Sum of absolute vector values. This norm is the calculation of the Manhattan distance from the origin of the vector space. \n",
    "It is often used when fitting machine learning algorithms as a regularization method in order to keep the coefficients small and, in turn, the model less complex."
   ]
  },
  {
   "cell_type": "code",
   "execution_count": 8,
   "metadata": {},
   "outputs": [
    {
     "name": "stdout",
     "output_type": "stream",
     "text": [
      "33.0\n"
     ]
    }
   ],
   "source": [
    "from numpy import array\n",
    "from numpy.linalg import norm\n",
    "\n",
    "a = array([10,11,12])\n",
    "length = norm(a,1)\n",
    "print(length)"
   ]
  },
  {
   "cell_type": "markdown",
   "metadata": {},
   "source": [
    "### Vector L2 norm\n",
    "Calculates the distance of the vector coordinate from the origin of the vector space. Also known as the Euclidean distance from \n",
    "the origin. The result is a positive distance value. It is calculated as the square root of the sum of squared vector values."
   ]
  },
  {
   "cell_type": "code",
   "execution_count": 9,
   "metadata": {},
   "outputs": [
    {
     "name": "stdout",
     "output_type": "stream",
     "text": [
      "19.1049731745428\n"
     ]
    }
   ],
   "source": [
    "length = norm(a)\n",
    "print(length)"
   ]
  },
  {
   "cell_type": "markdown",
   "metadata": {},
   "source": [
    "### Vector Max Norm\n",
    "Max norm of a vector is referred to as (L to the power infinity). The max norm of a vector can be calculated in NumPy using the \n",
    "norm() function with the order parameter set to inf."
   ]
  },
  {
   "cell_type": "code",
   "execution_count": 10,
   "metadata": {},
   "outputs": [
    {
     "name": "stdout",
     "output_type": "stream",
     "text": [
      "[1 2 3 4 5]\n",
      "5.0\n"
     ]
    }
   ],
   "source": [
    "from math import inf\n",
    "from numpy import array\n",
    "from numpy.linalg import norm\n",
    "\n",
    "a = array([1,2,3,4,5])\n",
    "print(a)\n",
    "\n",
    "max_norm = norm(a,inf)\n",
    "print(max_norm)"
   ]
  },
  {
   "cell_type": "markdown",
   "metadata": {},
   "source": [
    "# Matrices and Matrix Arithmetic"
   ]
  },
  {
   "cell_type": "code",
   "execution_count": 11,
   "metadata": {},
   "outputs": [
    {
     "name": "stdout",
     "output_type": "stream",
     "text": [
      "[[1 2 3]\n",
      " [2 3 4]\n",
      " [3 4 5]]\n"
     ]
    }
   ],
   "source": [
    "# Defining a matrix\n",
    "from numpy import array\n",
    "A = array([[1,2,3],[2,3,4],[3,4,5]])\n",
    "print(A)"
   ]
  },
  {
   "cell_type": "markdown",
   "metadata": {},
   "source": [
    "### Matrix Arithmetic"
   ]
  },
  {
   "cell_type": "code",
   "execution_count": 12,
   "metadata": {},
   "outputs": [
    {
     "name": "stdout",
     "output_type": "stream",
     "text": [
      "[[11 13 15 17 19]\n",
      " [13 15 17 19 21]\n",
      " [15 17 19 21 23]]\n"
     ]
    }
   ],
   "source": [
    "# Matrix Addition\n",
    "A = array([[1,2,3,4,5],\n",
    "          [2,3,4,5,6],\n",
    "          [3,4,5,6,7]])\n",
    "\n",
    "B = array([[10,11,12,13,14],\n",
    "          [11,12,13,14,15],\n",
    "          [12,13,14,15,16]])\n",
    "\n",
    "C = A + B\n",
    "print(C)"
   ]
  },
  {
   "cell_type": "code",
   "execution_count": 13,
   "metadata": {},
   "outputs": [
    {
     "name": "stdout",
     "output_type": "stream",
     "text": [
      "[[-9 -9 -9 -9 -9]\n",
      " [-9 -9 -9 -9 -9]\n",
      " [-9 -9 -9 -9 -9]]\n"
     ]
    }
   ],
   "source": [
    "# Matrix Subtraction\n",
    "C = A - B\n",
    "print(C)"
   ]
  },
  {
   "cell_type": "markdown",
   "metadata": {},
   "source": [
    "### Matrix Multiplication\n",
    "Two matrices of the same size can be multiplied together, and this is often called element-wise matrix multiplication or the\n",
    "Hadamard product."
   ]
  },
  {
   "cell_type": "code",
   "execution_count": 14,
   "metadata": {},
   "outputs": [
    {
     "name": "stdout",
     "output_type": "stream",
     "text": [
      "[[1 2 3 4 5]\n",
      " [2 3 4 5 6]\n",
      " [3 4 5 6 7]]\n",
      "\r\n",
      "[[10 11 12 13 14]\n",
      " [11 12 13 14 15]\n",
      " [12 13 14 15 16]]\n",
      "\r\n",
      "[[ 10  22  36  52  70]\n",
      " [ 22  36  52  70  90]\n",
      " [ 36  52  70  90 112]]\n"
     ]
    }
   ],
   "source": [
    "print(A)\n",
    "print(\"\\r\")\n",
    "print(B)\n",
    "print(\"\\r\")\n",
    "C = A * B\n",
    "print(C)"
   ]
  },
  {
   "cell_type": "markdown",
   "metadata": {},
   "source": [
    "## Matrix Division"
   ]
  },
  {
   "cell_type": "code",
   "execution_count": 15,
   "metadata": {},
   "outputs": [
    {
     "name": "stdout",
     "output_type": "stream",
     "text": [
      "[[1 2 3 4 5]\n",
      " [2 3 4 5 6]\n",
      " [3 4 5 6 7]]\n",
      "\r\n",
      "[[10 11 12 13 14]\n",
      " [11 12 13 14 15]\n",
      " [12 13 14 15 16]]\n",
      "\r\n",
      "[[0.1        0.18181818 0.25       0.30769231 0.35714286]\n",
      " [0.18181818 0.25       0.30769231 0.35714286 0.4       ]\n",
      " [0.25       0.30769231 0.35714286 0.4        0.4375    ]]\n"
     ]
    }
   ],
   "source": [
    "print(A)\n",
    "print(\"\\r\")\n",
    "print(B)\n",
    "print(\"\\r\")\n",
    "C = A / B\n",
    "print(C)"
   ]
  },
  {
   "cell_type": "markdown",
   "metadata": {},
   "source": [
    "### Matrix-Matrix Multiplication (Matrix dot product)\n",
    "The matrix dot product is a little more complicated than the previous operations and so there is a rule for matrix multiplication. \n",
    "\n",
    "Rule: The number of columns(n) in the first matrix(A) must equal the number of rows(m) in the second matrix(B)."
   ]
  },
  {
   "cell_type": "code",
   "execution_count": 16,
   "metadata": {},
   "outputs": [
    {
     "name": "stdout",
     "output_type": "stream",
     "text": [
      "[[1 2 3 4 5]\n",
      " [2 3 4 5 6]\n",
      " [3 4 5 6 7]]\n",
      "(3, 5)\n",
      "\r\n",
      "[[11 12 13]\n",
      " [12 13 14]\n",
      " [13 14 15]\n",
      " [14 15 16]\n",
      " [15 16 17]]\n",
      "(5, 3)\n",
      "\r\n",
      "[[205 220 235]\n",
      " [270 290 310]\n",
      " [335 360 385]]\n",
      "(3, 3)\n"
     ]
    }
   ],
   "source": [
    "A = array([[1,2,3,4,5],\n",
    "          [2,3,4,5,6],\n",
    "          [3,4,5,6,7]])\n",
    "print(A)\n",
    "print(A.shape)\n",
    "\n",
    "print(\"\\r\")\n",
    "\n",
    "B = array([[11,12,13],\n",
    "          [12,13,14],\n",
    "          [13,14,15],\n",
    "          [14,15,16],\n",
    "          [15,16,17]])\n",
    "print(B)\n",
    "print(B.shape)\n",
    "\n",
    "print(\"\\r\")\n",
    "\n",
    "C = A.dot(B)\n",
    "print(C)\n",
    "print(C.shape)"
   ]
  },
  {
   "cell_type": "markdown",
   "metadata": {},
   "source": [
    "### Matrix-Vector Multiplication"
   ]
  },
  {
   "cell_type": "code",
   "execution_count": 17,
   "metadata": {},
   "outputs": [
    {
     "name": "stdout",
     "output_type": "stream",
     "text": [
      "[ 5 10 15 20 25]\n",
      "(5,)\n",
      "\n",
      "[[1 2 3 4 5]\n",
      " [2 3 4 5 6]\n",
      " [3 4 5 6 7]]\n",
      "(3, 5)\n",
      "\n",
      "[275 350 425]\n",
      "(3,)\n"
     ]
    }
   ],
   "source": [
    "v = array([5,10,15,20,25])\n",
    "print(v)\n",
    "print(v.shape)\n",
    "\n",
    "print(\"\\r\")\n",
    "\n",
    "print(A)\n",
    "print(A.shape)\n",
    "\n",
    "print(\"\\r\")\n",
    "\n",
    "C = A.dot(v)\n",
    "print(C)\n",
    "print(C.shape)"
   ]
  },
  {
   "cell_type": "markdown",
   "metadata": {},
   "source": [
    "### Matrix-Scalar Multiplication"
   ]
  },
  {
   "cell_type": "code",
   "execution_count": 18,
   "metadata": {},
   "outputs": [
    {
     "name": "stdout",
     "output_type": "stream",
     "text": [
      "[[1 2 3]\n",
      " [2 3 4]\n",
      " [3 4 5]\n",
      " [4 5 6]\n",
      " [5 6 7]]\n",
      "\r\n",
      "[[ 2.5  5.   7.5]\n",
      " [ 5.   7.5 10. ]\n",
      " [ 7.5 10.  12.5]\n",
      " [10.  12.5 15. ]\n",
      " [12.5 15.  17.5]]\n"
     ]
    }
   ],
   "source": [
    "A = array([[1,2,3],[2,3,4],[3,4,5],[4,5,6],[5,6,7]]) # matrix\n",
    "s = 2.5 # scalar\n",
    "\n",
    "print(A)\n",
    "print(\"\\r\")\n",
    "print(A*s)"
   ]
  },
  {
   "cell_type": "markdown",
   "metadata": {},
   "source": [
    "# Types of Matrices"
   ]
  },
  {
   "cell_type": "markdown",
   "metadata": {},
   "source": [
    "### Square, Symmetric and Triangular matrix\n",
    "Square matrix : A matrix with same number of rows and columns\n",
    "\n",
    "Symmetric matrix : A matrix where the top-right triangle is the same as the bottom-left triangle\n",
    "\n",
    "Triangular matrix : A type of square matrix that has all values in the upper-right or lower-left of the matrix with the remaining elements filled with zeros."
   ]
  },
  {
   "cell_type": "code",
   "execution_count": 19,
   "metadata": {},
   "outputs": [
    {
     "name": "stdout",
     "output_type": "stream",
     "text": [
      "[[1 2 3 4 5]\n",
      " [2 3 4 5 6]\n",
      " [3 4 5 6 7]\n",
      " [4 5 6 7 8]\n",
      " [5 6 7 8 9]]\n",
      "\r\n",
      "[[1 0 0 0 0]\n",
      " [2 3 0 0 0]\n",
      " [3 4 5 0 0]\n",
      " [4 5 6 7 0]\n",
      " [5 6 7 8 9]]\n",
      "\r\n",
      "[[1 2 3 4 5]\n",
      " [0 3 4 5 6]\n",
      " [0 0 5 6 7]\n",
      " [0 0 0 7 8]\n",
      " [0 0 0 0 9]]\n"
     ]
    }
   ],
   "source": [
    "from numpy import array\n",
    "from numpy import tril\n",
    "from numpy import triu\n",
    "\n",
    "# Square matrix\n",
    "M = array([[1,2,3,4,5],\n",
    "          [2,3,4,5,6],\n",
    "          [3,4,5,6,7],\n",
    "          [4,5,6,7,8],\n",
    "          [5,6,7,8,9]])\n",
    "print(M)\n",
    "print(\"\\r\")\n",
    "\n",
    "lower = tril(M)\n",
    "print(lower)\n",
    "print(\"\\r\")\n",
    "\n",
    "upper = triu(M)\n",
    "print(upper)"
   ]
  },
  {
   "cell_type": "markdown",
   "metadata": {},
   "source": [
    "### Diagonal Matrix\n",
    "A matrix where values outside of the main diagonal have a zero value, where the diagonal is taken from the top left to the bottom right of the matrix."
   ]
  },
  {
   "cell_type": "code",
   "execution_count": 20,
   "metadata": {},
   "outputs": [
    {
     "name": "stdout",
     "output_type": "stream",
     "text": [
      "[[1 2 3 4 5]\n",
      " [2 3 4 5 6]\n",
      " [3 4 5 6 7]\n",
      " [4 5 6 7 8]\n",
      " [5 6 7 8 9]]\n",
      "\r\n",
      "[1 3 5 7 9]\n",
      "\r\n",
      "[[1 0 0 0 0]\n",
      " [0 3 0 0 0]\n",
      " [0 0 5 0 0]\n",
      " [0 0 0 7 0]\n",
      " [0 0 0 0 9]]\n"
     ]
    }
   ],
   "source": [
    "from numpy import diag\n",
    "\n",
    "print(M)\n",
    "print(\"\\r\")\n",
    "# extracting the diagonal vector\n",
    "d = diag(M)\n",
    "print(d)\n",
    "print(\"\\r\")\n",
    "# create diagonal matrix from vector\n",
    "D = diag(d)\n",
    "print(D)"
   ]
  },
  {
   "cell_type": "markdown",
   "metadata": {},
   "source": [
    "### Identity Matrix(I)\n",
    "\"An identity matrix is a square matrix that does not change a vector when multiplied.\" All scalar values along the main diagonal have the value-one, while all other values are zero."
   ]
  },
  {
   "cell_type": "code",
   "execution_count": 21,
   "metadata": {},
   "outputs": [
    {
     "name": "stdout",
     "output_type": "stream",
     "text": [
      "[[1. 0. 0. 0. 0.]\n",
      " [0. 1. 0. 0. 0.]\n",
      " [0. 0. 1. 0. 0.]\n",
      " [0. 0. 0. 1. 0.]\n",
      " [0. 0. 0. 0. 1.]]\n"
     ]
    }
   ],
   "source": [
    "from numpy import identity\n",
    "I = identity(5)\n",
    "print(I)"
   ]
  },
  {
   "cell_type": "markdown",
   "metadata": {},
   "source": [
    "### Orthogonal Matrix (Q)\n",
    "Two square matrices whose columns and rows are mutually orthonormal unit vectors i.e. perpendicular to each other and have a length or magnitude of 1.\n",
    "\n",
    "A matrix is orthogonal if the dot product of the matrix and itself equals the identity matrix.\n",
    "\n",
    "A matrix is orthogonal if its transpose is equal to its inverse."
   ]
  },
  {
   "cell_type": "code",
   "execution_count": 22,
   "metadata": {},
   "outputs": [
    {
     "name": "stdout",
     "output_type": "stream",
     "text": [
      "[[1 0 0]\n",
      " [0 1 0]\n",
      " [0 0 1]]\n",
      "\n",
      "[[1 0 0]\n",
      " [0 1 0]\n",
      " [0 0 1]]\n",
      "\n",
      "[[1. 0. 0.]\n",
      " [0. 1. 0.]\n",
      " [0. 0. 1.]]\n",
      "\n",
      "[[1 0 0]\n",
      " [0 1 0]\n",
      " [0 0 1]]\n"
     ]
    }
   ],
   "source": [
    "from numpy.linalg import inv\n",
    "Q = array([[1,0,0],\n",
    "          [0,1,0],\n",
    "          [0,0,1]])\n",
    "print(Q)\n",
    "\n",
    "print(\"\\r\")\n",
    "\n",
    "V = inv(Q)\n",
    "print(Q.T)\n",
    "\n",
    "print(\"\\r\")\n",
    "print(V)\n",
    "\n",
    "print(\"\\r\")\n",
    "I = Q.dot(Q.T)\n",
    "print(I)"
   ]
  },
  {
   "cell_type": "markdown",
   "metadata": {},
   "source": [
    "# Matrix Operations"
   ]
  },
  {
   "cell_type": "markdown",
   "metadata": {},
   "source": [
    "### Transpose"
   ]
  },
  {
   "cell_type": "code",
   "execution_count": 23,
   "metadata": {},
   "outputs": [
    {
     "name": "stdout",
     "output_type": "stream",
     "text": [
      "[[1 2 3]\n",
      " [2 3 4]\n",
      " [3 4 5]\n",
      " [4 5 6]\n",
      " [5 6 7]]\n",
      "\r\n",
      "[[1 2 3 4 5]\n",
      " [2 3 4 5 6]\n",
      " [3 4 5 6 7]]\n"
     ]
    }
   ],
   "source": [
    "A = array([[1,2,3],[2,3,4],[3,4,5],[4,5,6],[5,6,7]])\n",
    "print(A)\n",
    "print(\"\\r\")\n",
    "C = A.T\n",
    "print(C)"
   ]
  },
  {
   "cell_type": "markdown",
   "metadata": {},
   "source": [
    "### Inverse"
   ]
  },
  {
   "cell_type": "code",
   "execution_count": 24,
   "metadata": {},
   "outputs": [
    {
     "name": "stdout",
     "output_type": "stream",
     "text": [
      "[[1 2]\n",
      " [3 4]]\n",
      "\r\n",
      "[[-2.   1. ]\n",
      " [ 1.5 -0.5]]\n"
     ]
    }
   ],
   "source": [
    "from numpy.linalg import inv\n",
    "\n",
    "A = array([[1,2],\n",
    "          [3,4]])\n",
    "print(A)\n",
    "print(\"\\r\")\n",
    "\n",
    "B = inv(A)\n",
    "print(B)"
   ]
  },
  {
   "cell_type": "markdown",
   "metadata": {},
   "source": [
    "### Trace\n",
    "A trace of a matrix is the sum of values on the main diagonal of the matrix(top left to bottom right)."
   ]
  },
  {
   "cell_type": "code",
   "execution_count": 25,
   "metadata": {},
   "outputs": [
    {
     "name": "stdout",
     "output_type": "stream",
     "text": [
      "[[1 2 3 4]\n",
      " [2 3 4 5]\n",
      " [3 4 5 6]\n",
      " [4 5 6 7]]\n",
      "\r\n",
      "16\n"
     ]
    }
   ],
   "source": [
    "from numpy import trace\n",
    "\n",
    "A = array([[1,2,3,4],\n",
    "          [2,3,4,5],\n",
    "          [3,4,5,6],\n",
    "          [4,5,6,7]])\n",
    "print(A)\n",
    "print(\"\\r\")\n",
    "\n",
    "B = trace(A)\n",
    "print(B)"
   ]
  },
  {
   "cell_type": "markdown",
   "metadata": {},
   "source": [
    "### Determinant\n",
    "A Determinant of a matrix tells you the volume of a box with sides given by rows of A. The determinant is the product of all the eigenvalues of the matrix."
   ]
  },
  {
   "cell_type": "code",
   "execution_count": 26,
   "metadata": {},
   "outputs": [
    {
     "name": "stdout",
     "output_type": "stream",
     "text": [
      "[[1 2 3]\n",
      " [4 5 6]\n",
      " [7 8 9]]\n",
      "\n",
      "0.0\n"
     ]
    }
   ],
   "source": [
    "from numpy.linalg import det\n",
    "\n",
    "A = array([[1,2,3],\n",
    "          [4,5,6],\n",
    "          [7,8,9]])\n",
    "print(A)\n",
    "print(\"\\r\")\n",
    "\n",
    "det_A = det(A)\n",
    "print(det_A)"
   ]
  },
  {
   "cell_type": "markdown",
   "metadata": {},
   "source": [
    "### Rank\n",
    "The rank of a matrix is the estimate of the number of linearly independent rows or columns in a matrix."
   ]
  },
  {
   "cell_type": "code",
   "execution_count": 37,
   "metadata": {},
   "outputs": [
    {
     "name": "stdout",
     "output_type": "stream",
     "text": [
      "1\n",
      "\r\n",
      "2\n",
      "\r\n",
      "1\n"
     ]
    }
   ],
   "source": [
    "from numpy.linalg import matrix_rank\n",
    "\n",
    "A = array([1,2,3,4,5])\n",
    "print(matrix_rank(A))\n",
    "\n",
    "print(\"\\r\")\n",
    "\n",
    "B = array([[1,2,3],\n",
    "          [4,5,6]])\n",
    "print(matrix_rank(B))\n",
    "\n",
    "print(\"\\r\")\n",
    "\n",
    "C = array([[0,0,0],  # Rank is not equal to dimension of the matrix\n",
    "         [1,1,1],\n",
    "         [0,0,0]])\n",
    "print(matrix_rank(C))"
   ]
  },
  {
   "cell_type": "markdown",
   "metadata": {},
   "source": [
    "# Sparse Matrices\n",
    "A matrix that is comprised mostly of zeros. Most large matrices are sparse matrices.\n",
    "\n",
    "sparsity = count of non-zero elements/total elements"
   ]
  },
  {
   "cell_type": "code",
   "execution_count": 27,
   "metadata": {},
   "outputs": [],
   "source": [
    "from numpy import array\n",
    "# A dense matrix stored in a numpy array can be converted into a sparse matrix using the CSR representation\n",
    "from scipy.sparse import csr_matrix"
   ]
  },
  {
   "cell_type": "code",
   "execution_count": 28,
   "metadata": {},
   "outputs": [
    {
     "name": "stdout",
     "output_type": "stream",
     "text": [
      "[[1 0 1 0 1]\n",
      " [2 0 3 0 1]\n",
      " [3 0 1 0 2]]\n",
      "\r\n",
      "  (0, 0)\t1\n",
      "  (0, 2)\t1\n",
      "  (0, 4)\t1\n",
      "  (1, 0)\t2\n",
      "  (1, 2)\t3\n",
      "  (1, 4)\t1\n",
      "  (2, 0)\t3\n",
      "  (2, 2)\t1\n",
      "  (2, 4)\t2\n"
     ]
    }
   ],
   "source": [
    "A = array([[1,0,1,0,1],\n",
    "          [2,0,3,0,1],\n",
    "          [3,0,1,0,2]])\n",
    "print(A)\n",
    "print(\"\\r\")\n",
    "\n",
    "sparse = csr_matrix(A)\n",
    "print(sparse)"
   ]
  },
  {
   "cell_type": "code",
   "execution_count": 29,
   "metadata": {},
   "outputs": [
    {
     "name": "stdout",
     "output_type": "stream",
     "text": [
      "0.4\n"
     ]
    }
   ],
   "source": [
    "# Calculating sparsity of a matrix\n",
    "from numpy import count_nonzero\n",
    "sparsity = 1 - count_nonzero(A)/A.size\n",
    "print(sparsity)"
   ]
  },
  {
   "cell_type": "markdown",
   "metadata": {},
   "source": [
    "# Tensors and Tensor Arithmetic"
   ]
  },
  {
   "cell_type": "markdown",
   "metadata": {},
   "source": [
    "### Tensors\n",
    "A tensor is a generalization of vectors and matrices and is easily understood as a multidimensional array.\n",
    "A tensor can be defined in-line to the constructor of array() as a list of lists."
   ]
  },
  {
   "cell_type": "code",
   "execution_count": 40,
   "metadata": {},
   "outputs": [
    {
     "name": "stdout",
     "output_type": "stream",
     "text": [
      "[[[ 1  2  3]\n",
      "  [ 2  3  4]\n",
      "  [ 3  4  5]\n",
      "  [ 4  5  6]]\n",
      "\n",
      " [[10 11 12]\n",
      "  [11 12 13]\n",
      "  [12 13 14]\n",
      "  [13 14 15]]\n",
      "\n",
      " [[21 22 23]\n",
      "  [22 23 24]\n",
      "  [23 24 25]\n",
      "  [24 25 26]]]\n",
      "\r\n",
      "(3, 4, 3)\n"
     ]
    }
   ],
   "source": [
    "# A 3*3 tensor\n",
    "\n",
    "T = array([[[1,2,3],[2,3,4],[3,4,5],[4,5,6]],\n",
    "          [[10,11,12],[11,12,13],[12,13,14],[13,14,15]],\n",
    "          [[21,22,23],[22,23,24],[23,24,25],[24,25,26]]])\n",
    "\n",
    "print(T)\n",
    "print(\"\\r\")\n",
    "print(T.shape)"
   ]
  },
  {
   "cell_type": "markdown",
   "metadata": {},
   "source": [
    "### Tensor Arithmetic"
   ]
  },
  {
   "cell_type": "code",
   "execution_count": 44,
   "metadata": {},
   "outputs": [
    {
     "name": "stdout",
     "output_type": "stream",
     "text": [
      "Tensor Addition\n",
      "[[[12 14 16]\n",
      "  [14 16 18]]\n",
      "\n",
      " [[16 18 20]\n",
      "  [18 20 22]]\n",
      "\n",
      " [[20 22 24]\n",
      "  [22 24 26]]]\n",
      "\r\n",
      "Tensor Subtraction\n",
      "[[[10 10 10]\n",
      "  [10 10 10]]\n",
      "\n",
      " [[10 10 10]\n",
      "  [10 10 10]]\n",
      "\n",
      " [[10 10 10]\n",
      "  [10 10 10]]]\n"
     ]
    }
   ],
   "source": [
    "A = array([[[1,2,3],[2,3,4]],\n",
    "           [[3,4,5],[4,5,6]],\n",
    "           [[5,6,7],[6,7,8]]])\n",
    "\n",
    "B = array([[[11,12,13],[12,13,14]],\n",
    "           [[13,14,15],[14,15,16]],\n",
    "           [[15,16,17],[16,17,18]]])\n",
    "\n",
    "print(\"Tensor Addition\")\n",
    "# adding tensors\n",
    "C = A + B\n",
    "print(C)\n",
    "\n",
    "print(\"\\r\")\n",
    "print(\"Tensor Subtraction\")\n",
    "# tensor subtraction\n",
    "D = B - A\n",
    "print(D)"
   ]
  },
  {
   "cell_type": "code",
   "execution_count": 45,
   "metadata": {},
   "outputs": [
    {
     "name": "stdout",
     "output_type": "stream",
     "text": [
      "Tensor Hadamard Product\n",
      "[[[ 11  24  39]\n",
      "  [ 24  39  56]]\n",
      "\n",
      " [[ 39  56  75]\n",
      "  [ 56  75  96]]\n",
      "\n",
      " [[ 75  96 119]\n",
      "  [ 96 119 144]]]\n",
      "\r\n",
      "Tensor division\n",
      "[[[0.09090909 0.16666667 0.23076923]\n",
      "  [0.16666667 0.23076923 0.28571429]]\n",
      "\n",
      " [[0.23076923 0.28571429 0.33333333]\n",
      "  [0.28571429 0.33333333 0.375     ]]\n",
      "\n",
      " [[0.33333333 0.375      0.41176471]\n",
      "  [0.375      0.41176471 0.44444444]]]\n"
     ]
    }
   ],
   "source": [
    "# Tensor Hadamard Product\n",
    "C = A * B\n",
    "print(\"Tensor Hadamard Product\")\n",
    "print(C)\n",
    "\n",
    "print(\"\\r\")\n",
    "\n",
    "# Tensor division\n",
    "D = A / B\n",
    "print(\"Tensor division\")\n",
    "print(D)"
   ]
  },
  {
   "cell_type": "code",
   "execution_count": 47,
   "metadata": {},
   "outputs": [
    {
     "name": "stdout",
     "output_type": "stream",
     "text": [
      "[[3 4]\n",
      " [6 8]]\n"
     ]
    }
   ],
   "source": [
    "# Tensor Product\n",
    "from numpy import tensordot\n",
    "A = array([1,2])\n",
    "B = array([3,4])\n",
    "C = tensordot(A,B, axes = 0)\n",
    "print(C)"
   ]
  }
 ],
 "metadata": {
  "kernelspec": {
   "display_name": "Python 3",
   "language": "python",
   "name": "python3"
  },
  "language_info": {
   "codemirror_mode": {
    "name": "ipython",
    "version": 3
   },
   "file_extension": ".py",
   "mimetype": "text/x-python",
   "name": "python",
   "nbconvert_exporter": "python",
   "pygments_lexer": "ipython3",
   "version": "3.8.3"
  }
 },
 "nbformat": 4,
 "nbformat_minor": 4
}
