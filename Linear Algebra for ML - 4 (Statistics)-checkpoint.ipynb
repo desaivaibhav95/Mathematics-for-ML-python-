{
 "cells": [
  {
   "cell_type": "markdown",
   "metadata": {},
   "source": [
    "# Introduction to Multivariate Statistics"
   ]
  },
  {
   "cell_type": "markdown",
   "metadata": {},
   "source": [
    "### Mean and Expected Value"
   ]
  },
  {
   "cell_type": "code",
   "execution_count": 1,
   "metadata": {},
   "outputs": [
    {
     "name": "stdout",
     "output_type": "stream",
     "text": [
      "3.0\n"
     ]
    }
   ],
   "source": [
    "from numpy import array\n",
    "from numpy import mean\n",
    "\n",
    "v = array([1,2,3,4,5])\n",
    "print(mean(v))"
   ]
  },
  {
   "cell_type": "code",
   "execution_count": 2,
   "metadata": {},
   "outputs": [
    {
     "name": "stdout",
     "output_type": "stream",
     "text": [
      "[[1 2 3 4 5]\n",
      " [2 3 4 5 6]\n",
      " [3 4 5 6 7]]\n",
      "\r\n",
      "[2. 3. 4. 5. 6.]\n",
      "\r\n",
      "[3. 4. 5.]\n"
     ]
    }
   ],
   "source": [
    "M = array([[1,2,3,4,5],\n",
    "          [2,3,4,5,6],\n",
    "          [3,4,5,6,7]])\n",
    "print(M)\n",
    "print(\"\\r\")\n",
    "\n",
    "# column means\n",
    "col_mean = mean(M, axis = 0)\n",
    "print(col_mean)\n",
    "\n",
    "print(\"\\r\")\n",
    "\n",
    "# row means\n",
    "row_mean = mean(M, axis = 1)\n",
    "print(row_mean)"
   ]
  },
  {
   "cell_type": "markdown",
   "metadata": {},
   "source": [
    "### Variance and Standard Deviation"
   ]
  },
  {
   "cell_type": "code",
   "execution_count": 3,
   "metadata": {},
   "outputs": [
    {
     "name": "stdout",
     "output_type": "stream",
     "text": [
      "[1 2 3 4 5]\n",
      "\r\n",
      "2.5\n"
     ]
    }
   ],
   "source": [
    "from numpy import var\n",
    "\n",
    "v = array([1,2,3,4,5])\n",
    "print(v)\n",
    "print(\"\\r\")\n",
    "result = var(v, ddof = 1)\n",
    "print(result)"
   ]
  },
  {
   "cell_type": "code",
   "execution_count": 4,
   "metadata": {},
   "outputs": [
    {
     "name": "stdout",
     "output_type": "stream",
     "text": [
      "[[1 2 3 4 5]\n",
      " [2 3 4 5 6]]\n",
      "\r\n",
      "[0.5 0.5 0.5 0.5 0.5]\n",
      "\r\n",
      "[2.5 2.5]\n"
     ]
    }
   ],
   "source": [
    "M = array([[1,2,3,4,5],\n",
    "          [2,3,4,5,6]])\n",
    "print(M)\n",
    "\n",
    "print(\"\\r\")\n",
    "\n",
    "# column variances\n",
    "col_var = var(M, ddof = 1, axis = 0)\n",
    "print(col_var)\n",
    "\n",
    "print(\"\\r\")\n",
    "\n",
    "# row variances\n",
    "row_var = var(M, ddof = 1, axis = 1)\n",
    "print(row_var)"
   ]
  },
  {
   "cell_type": "code",
   "execution_count": 5,
   "metadata": {},
   "outputs": [
    {
     "name": "stdout",
     "output_type": "stream",
     "text": [
      "[0.70710678 0.70710678 0.70710678 0.70710678 0.70710678]\n",
      "\r\n",
      "[1.58113883 1.58113883]\n"
     ]
    }
   ],
   "source": [
    "from numpy import std\n",
    "\n",
    "# column standard deviations\n",
    "col_std = std(M, ddof = 1, axis = 0)\n",
    "print(col_std)\n",
    "\n",
    "print(\"\\r\")\n",
    "\n",
    "# row standard deviation\n",
    "row_std = std(M, ddof = 1, axis = 1)\n",
    "print(row_std)"
   ]
  },
  {
   "cell_type": "markdown",
   "metadata": {},
   "source": [
    "### Covariance and Correlation"
   ]
  },
  {
   "cell_type": "code",
   "execution_count": 6,
   "metadata": {},
   "outputs": [
    {
     "name": "stdout",
     "output_type": "stream",
     "text": [
      "[1 2 3 4 5 6 7 8 9]\n",
      "\r\n",
      "[9 8 7 6 5 4 3 2 1]\n",
      "\r\n",
      "-7.5\n"
     ]
    }
   ],
   "source": [
    "from numpy import cov\n",
    "\n",
    "X = array([1,2,3,4,5,6,7,8,9])\n",
    "print(X)\n",
    "\n",
    "print(\"\\r\")\n",
    "\n",
    "Y = array([9,8,7,6,5,4,3,2,1])\n",
    "print(Y)\n",
    "\n",
    "print(\"\\r\")\n",
    "\n",
    "# calculate covariance\n",
    "Sigma = cov(X,Y)[0,1]\n",
    "print(Sigma)"
   ]
  },
  {
   "cell_type": "code",
   "execution_count": 7,
   "metadata": {},
   "outputs": [
    {
     "name": "stdout",
     "output_type": "stream",
     "text": [
      "-1.0\n"
     ]
    }
   ],
   "source": [
    "from numpy import corrcoef\n",
    "\n",
    "corr = corrcoef(X,Y)[0,1]\n",
    "print(corr)"
   ]
  },
  {
   "cell_type": "markdown",
   "metadata": {},
   "source": [
    "### Covariance Matrix\n",
    "A square and symmetric matrix that descries the covariance between two or more random variables. The diagonals of the covariance matrix are the variances of each of the random variables. A covariance matrix is a generalization of the covariance of two variables and captures the way in which all variables in the dataset may change together."
   ]
  },
  {
   "cell_type": "code",
   "execution_count": 8,
   "metadata": {},
   "outputs": [
    {
     "name": "stdout",
     "output_type": "stream",
     "text": [
      "[[1 2 3]\n",
      " [2 3 4]\n",
      " [3 4 5]\n",
      " [4 5 6]\n",
      " [5 6 7]]\n",
      "\r\n",
      "[[2.5 2.5 2.5]\n",
      " [2.5 2.5 2.5]\n",
      " [2.5 2.5 2.5]]\n"
     ]
    }
   ],
   "source": [
    "X = array([[1,2,3],\n",
    "          [2,3,4],\n",
    "          [3,4,5],\n",
    "          [4,5,6],\n",
    "          [5,6,7]])\n",
    "print(X)\n",
    "print(\"\\r\")\n",
    "\n",
    "Sigma = cov(X.T)\n",
    "print(Sigma)"
   ]
  },
  {
   "cell_type": "markdown",
   "metadata": {},
   "source": [
    "# Principal Component Analysis\n"
   ]
  },
  {
   "cell_type": "markdown",
   "metadata": {},
   "source": [
    "### Calculating Principal Component Analysis (in NumPy)\n",
    "There is no pca() function in NumPy, but we can calculate PCA step-by-step using NumPy functions."
   ]
  },
  {
   "cell_type": "code",
   "execution_count": 9,
   "metadata": {},
   "outputs": [],
   "source": [
    "from numpy import array, mean, cov\n",
    "from numpy.linalg import eig"
   ]
  },
  {
   "cell_type": "code",
   "execution_count": 10,
   "metadata": {},
   "outputs": [
    {
     "name": "stdout",
     "output_type": "stream",
     "text": [
      "[[1 2]\n",
      " [3 4]\n",
      " [5 6]\n",
      " [7 8]]\n",
      "\r\n",
      "[[ 0.70710678 -0.70710678]\n",
      " [ 0.70710678  0.70710678]]\n",
      "\r\n",
      "[13.33333333  0.        ]\n",
      "[[-4.24264069  0.        ]\n",
      " [-1.41421356  0.        ]\n",
      " [ 1.41421356  0.        ]\n",
      " [ 4.24264069  0.        ]]\n"
     ]
    }
   ],
   "source": [
    "# define matrix\n",
    "A = array([[1,2],\n",
    "          [3,4],\n",
    "          [5,6],\n",
    "          [7,8]])\n",
    "print(A)\n",
    "print(\"\\r\")\n",
    "\n",
    "# column means\n",
    "M = mean(A.T, axis = 1)\n",
    "\n",
    "# center columns by subtracting column means\n",
    "C = A - M\n",
    "\n",
    "# calculate covariance matrix of centered matrix\n",
    "V = cov(C.T)\n",
    "\n",
    "# factorize covariance matrix\n",
    "values, vectors = eig(V)\n",
    "print(vectors)\n",
    "print(\"\\r\")\n",
    "print(values)\n",
    "\n",
    "# project data\n",
    "P = vectors.T.dot(C.T)\n",
    "print(P.T)"
   ]
  },
  {
   "cell_type": "markdown",
   "metadata": {},
   "source": [
    "### Principal Component Analysis in scikit-learn"
   ]
  },
  {
   "cell_type": "code",
   "execution_count": 11,
   "metadata": {},
   "outputs": [
    {
     "name": "stdout",
     "output_type": "stream",
     "text": [
      "[[1 2 3]\n",
      " [4 5 6]\n",
      " [7 8 9]]\n",
      "\r\n",
      "[[-0.57735027 -0.57735027 -0.57735027]\n",
      " [ 0.         -0.70710678  0.70710678]]\n",
      "\r\n",
      "[27.  0.]\n",
      "\r\n",
      "[[ 5.19615242e+00  4.44089210e-16]\n",
      " [ 0.00000000e+00  0.00000000e+00]\n",
      " [-5.19615242e+00 -4.44089210e-16]]\n"
     ]
    }
   ],
   "source": [
    "from numpy import array\n",
    "from sklearn.decomposition import PCA\n",
    "\n",
    "# define matrix\n",
    "A = array([[1,2,3],\n",
    "           [4,5,6],\n",
    "           [7,8,9]])\n",
    "print(A)\n",
    "\n",
    "# create the transform\n",
    "pca = PCA(2)\n",
    "\n",
    "# fit the transform\n",
    "pca.fit(A)\n",
    "\n",
    "print(\"\\r\")\n",
    "\n",
    "# access values and vectors\n",
    "print(pca.components_)\n",
    "print(\"\\r\")\n",
    "print(pca.explained_variance_)\n",
    "\n",
    "print(\"\\r\")\n",
    "\n",
    "# transform data\n",
    "B = pca.transform(A)\n",
    "print(B)"
   ]
  },
  {
   "cell_type": "markdown",
   "metadata": {},
   "source": [
    "# Linear Regression"
   ]
  },
  {
   "cell_type": "code",
   "execution_count": 12,
   "metadata": {},
   "outputs": [
    {
     "name": "stdout",
     "output_type": "stream",
     "text": [
      "[[1 2 3]\n",
      " [4 5 6]\n",
      " [7 8 9]]\n",
      "\r\n"
     ]
    },
    {
     "data": {
      "image/png": "[encoded data removed]",
      "text/plain": [
       "<Figure size 432x288 with 1 Axes>"
      ]
     },
     "metadata": {
      "needs_background": "light"
     },
     "output_type": "display_data"
    }
   ],
   "source": [
    "from matplotlib import pyplot\n",
    "\n",
    "data = A\n",
    "X,y = data[:,0], data[:,1]\n",
    "X = X.reshape((len(X), 1))\n",
    "\n",
    "print(data)\n",
    "\n",
    "print(\"\\r\")\n",
    "\n",
    "pyplot.scatter(X,y)\n",
    "pyplot.show()"
   ]
  },
  {
   "cell_type": "markdown",
   "metadata": {},
   "source": [
    "### Solving linear regression via Inverse"
   ]
  },
  {
   "cell_type": "code",
   "execution_count": 13,
   "metadata": {},
   "outputs": [
    {
     "name": "stdout",
     "output_type": "stream",
     "text": [
      "[1.15151515]\n"
     ]
    },
    {
     "data": {
      "image/png": "[encoded data removed]",
      "text/plain": [
       "<Figure size 432x288 with 1 Axes>"
      ]
     },
     "metadata": {
      "needs_background": "light"
     },
     "output_type": "display_data"
    }
   ],
   "source": [
    "from numpy import array\n",
    "from numpy.linalg import inv\n",
    "from matplotlib import pyplot\n",
    "\n",
    "data = array([[1,2],\n",
    "             [3,4],\n",
    "             [5,6],\n",
    "             [7,8],\n",
    "             [9,10]])\n",
    "\n",
    "X,y = data[:,0], data[:,1]\n",
    "X = X.reshape(len(X),1)\n",
    "\n",
    "# linear least squares\n",
    "b = inv(X.T.dot(X)).dot(X.T).dot(y)\n",
    "print(b)\n",
    "\n",
    "# predict using coefficients\n",
    "yhat = X.dot(b)\n",
    "\n",
    "# plot data and predictions\n",
    "pyplot.scatter(X,y)\n",
    "pyplot.plot(X,yhat)\n",
    "pyplot.show()"
   ]
  },
  {
   "cell_type": "markdown",
   "metadata": {},
   "source": [
    "### Solve via QR Decomposition"
   ]
  },
  {
   "cell_type": "code",
   "execution_count": 14,
   "metadata": {},
   "outputs": [],
   "source": [
    "from numpy import array\n",
    "from numpy.linalg import inv, qr\n",
    "from matplotlib import pyplot"
   ]
  },
  {
   "cell_type": "code",
   "execution_count": 16,
   "metadata": {},
   "outputs": [
    {
     "name": "stdout",
     "output_type": "stream",
     "text": [
      "[[ 1  2]\n",
      " [ 3  4]\n",
      " [ 5  6]\n",
      " [ 7  8]\n",
      " [ 9 10]]\n",
      "\r\n",
      "[1.15151515]\n"
     ]
    },
    {
     "data": {
      "image/png": "[encoded data removed]",
      "text/plain": [
       "<Figure size 432x288 with 1 Axes>"
      ]
     },
     "metadata": {
      "needs_background": "light"
     },
     "output_type": "display_data"
    }
   ],
   "source": [
    "print(data)\n",
    "# split\n",
    "X,y = data[:,0], data[:,1]\n",
    "X = X.reshape((len(X),1))\n",
    "\n",
    "print(\"\\r\")\n",
    "\n",
    "# factorize\n",
    "Q,R = qr(X)\n",
    "b = inv(R).dot(Q.T).dot(y)\n",
    "print(b)\n",
    "\n",
    "# predict using coefficients\n",
    "yhat = X.dot(b)\n",
    "\n",
    "# plot data and predictions\n",
    "pyplot.scatter(X,y)\n",
    "pyplot.plot(X, yhat)\n",
    "pyplot.show()"
   ]
  },
  {
   "cell_type": "markdown",
   "metadata": {},
   "source": [
    "### Solve via SVD and pseudoinverse"
   ]
  },
  {
   "cell_type": "code",
   "execution_count": 18,
   "metadata": {},
   "outputs": [
    {
     "name": "stdout",
     "output_type": "stream",
     "text": [
      "[[ 1  2]\n",
      " [ 3  4]\n",
      " [ 5  6]\n",
      " [ 7  8]\n",
      " [ 9 10]]\n",
      "\r\n",
      "[1.15151515]\n"
     ]
    },
    {
     "data": {
      "image/png": "[encoded data removed]",
      "text/plain": [
       "<Figure size 432x288 with 1 Axes>"
      ]
     },
     "metadata": {
      "needs_background": "light"
     },
     "output_type": "display_data"
    }
   ],
   "source": [
    "from numpy.linalg import pinv\n",
    "\n",
    "print(data)\n",
    "print(\"\\r\")\n",
    "\n",
    "X,y = data[:,0], data[:,1]\n",
    "X = X.reshape((len(X), 1))\n",
    "\n",
    "# calculate coefficients\n",
    "b = pinv(X).dot(y)\n",
    "print(b)\n",
    "\n",
    "# predict using coefficients\n",
    "yhat = X.dot(b)\n",
    "\n",
    "# plot\n",
    "pyplot.scatter(X, y)\n",
    "pyplot.plot(X, yhat)\n",
    "pyplot.show()"
   ]
  },
  {
   "cell_type": "markdown",
   "metadata": {},
   "source": [
    "### Solve via Residual function"
   ]
  },
  {
   "cell_type": "code",
   "execution_count": 20,
   "metadata": {},
   "outputs": [
    {
     "name": "stdout",
     "output_type": "stream",
     "text": [
      "[[ 1  2]\n",
      " [ 3  4]\n",
      " [ 5  6]\n",
      " [ 7  8]\n",
      " [ 9 10]]\n",
      "\r\n",
      "[1.15151515]\n"
     ]
    },
    {
     "data": {
      "image/png": "[encoded data removed]",
      "text/plain": [
       "<Figure size 432x288 with 1 Axes>"
      ]
     },
     "metadata": {
      "needs_background": "light"
     },
     "output_type": "display_data"
    }
   ],
   "source": [
    "# Numpy provides a convenience function named lstsq() [Linear least squares function]\n",
    "from numpy.linalg import lstsq\n",
    "\n",
    "print(data)\n",
    "print(\"\\r\")\n",
    "\n",
    "X,y = data[:,0], data[:,1]\n",
    "X = X.reshape((len(X), 1))\n",
    "\n",
    "# calculate coefficients\n",
    "b, residuals, rank, s = lstsq(X, y, rcond=None)\n",
    "print(b)\n",
    "\n",
    "# predict using coefficients\n",
    "yhat = X.dot(b)\n",
    "\n",
    "# plot data and predictions\n",
    "pyplot.scatter(X,y)\n",
    "pyplot.plot(X,yhat)\n",
    "pyplot.show()"
   ]
  },
  {
   "cell_type": "code",
   "execution_count": null,
   "metadata": {},
   "outputs": [],
   "source": []
  }
 ],
 "metadata": {
  "kernelspec": {
   "display_name": "Python 3",
   "language": "python",
   "name": "python3"
  },
  "language_info": {
   "codemirror_mode": {
    "name": "ipython",
    "version": 3
   },
   "file_extension": ".py",
   "mimetype": "text/x-python",
   "name": "python",
   "nbconvert_exporter": "python",
   "pygments_lexer": "ipython3",
   "version": "3.8.3"
  }
 },
 "nbformat": 4,
 "nbformat_minor": 4
}
